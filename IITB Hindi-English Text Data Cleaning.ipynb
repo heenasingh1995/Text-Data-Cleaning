{
 "cells": [
  {
   "cell_type": "code",
   "execution_count": 1,
   "metadata": {},
   "outputs": [],
   "source": [
    "from tqdm import tqdm\n",
    "import re"
   ]
  },
  {
   "cell_type": "markdown",
   "metadata": {},
   "source": [
    "# English Data clean"
   ]
  },
  {
   "cell_type": "markdown",
   "metadata": {},
   "source": [
    "## Reading English data file"
   ]
  },
  {
   "cell_type": "code",
   "execution_count": 2,
   "metadata": {},
   "outputs": [],
   "source": [
    "with open('IITB.en-hi.en','r') as file:\n",
    "    english_doc=file.readlines()"
   ]
  },
  {
   "cell_type": "code",
   "execution_count": 3,
   "metadata": {},
   "outputs": [
    {
     "name": "stderr",
     "output_type": "stream",
     "text": [
      "100%|██████████| 1561840/1561840 [01:09<00:00, 22408.62it/s]\n"
     ]
    }
   ],
   "source": [
    "english_clean=[]\n",
    "for i in tqdm(english_doc):\n",
    "    x=re.sub('\\n','',i)\n",
    "    x=re.sub(' - ','',x)\n",
    "    x=re.sub(' _ ','',x)\n",
    "    x=re.sub('_ ','',x)\n",
    "    x=re.sub(':','',x)\n",
    "    x=re.sub('% s ','',x)\n",
    "    x=re.sub('% ','',x)\n",
    "    x=re.sub('/','',x)\n",
    "    x=re.sub('\\...','',x)\n",
    "    x=re.sub('< ','',x)\n",
    "    x=re.sub(' >','',x)\n",
    "    x=re.sub('\\(','',x)\n",
    "    x=re.sub('\\) s','',x)\n",
    "    x=re.sub('\\) d','',x)\n",
    "    x=re.sub(',','',x)\n",
    "    x=re.sub('\\?','',x)\n",
    "    x=re.sub('\\d','',x)\n",
    "    x=re.sub('©   ','',x)\n",
    "    x=re.sub('\\)','',x)\n",
    "    x=re.sub('\\.','',x)\n",
    "    x=re.sub(';','',x)\n",
    "    x=re.sub(r'[^a-zA-Z]',' ',x)\n",
    "    english_clean.append(x)\n",
    "    "
   ]
  },
  {
   "cell_type": "code",
   "execution_count": 4,
   "metadata": {},
   "outputs": [
    {
     "name": "stderr",
     "output_type": "stream",
     "text": [
      "100%|██████████| 1561840/1561840 [00:03<00:00, 507114.59it/s]\n"
     ]
    }
   ],
   "source": [
    "f_english_clean=[]\n",
    "for line in tqdm(english_clean):\n",
    "    line1=line.split()\n",
    "    f_english_clean.append(' '.join(line1))"
   ]
  },
  {
   "cell_type": "code",
   "execution_count": 5,
   "metadata": {},
   "outputs": [
    {
     "name": "stderr",
     "output_type": "stream",
     "text": [
      "100%|██████████| 1561840/1561840 [00:01<00:00, 899975.14it/s] \n"
     ]
    }
   ],
   "source": [
    "with open(\"clean_english_text.txt\",'w') as file:\n",
    "    for line in tqdm(f_english_clean):\n",
    "        file.write(line+'\\n')"
   ]
  },
  {
   "cell_type": "markdown",
   "metadata": {},
   "source": [
    "# Hindi Data Clean"
   ]
  },
  {
   "cell_type": "markdown",
   "metadata": {},
   "source": [
    "### Reading Hindi Data File"
   ]
  },
  {
   "cell_type": "code",
   "execution_count": 6,
   "metadata": {},
   "outputs": [],
   "source": [
    "with open('IITB.en-hi.hi','r') as file:\n",
    "    hindi_doc=file.readlines()"
   ]
  },
  {
   "cell_type": "code",
   "execution_count": 7,
   "metadata": {},
   "outputs": [
    {
     "name": "stderr",
     "output_type": "stream",
     "text": [
      "100%|██████████| 1561840/1561840 [00:20<00:00, 76195.11it/s]\n"
     ]
    }
   ],
   "source": [
    "hindi_clean=[]\n",
    "for i in tqdm(hindi_doc):\n",
    "    x=re.sub('\\n',' ',i)\n",
    "    x=re.sub('।',' ',x)\n",
    "    x=re.sub(r'[^\\u0900-\\u097F]',' ',x)\n",
    "    hindi_clean.append(x)\n",
    "    "
   ]
  },
  {
   "cell_type": "code",
   "execution_count": 8,
   "metadata": {},
   "outputs": [
    {
     "name": "stderr",
     "output_type": "stream",
     "text": [
      "100%|██████████| 1561840/1561840 [00:04<00:00, 341662.94it/s]\n"
     ]
    }
   ],
   "source": [
    "f_hindi_clean=[]\n",
    "for line in tqdm(hindi_clean):\n",
    "    line1=line.split()\n",
    "    f_hindi_clean.append(' '.join(line1))"
   ]
  },
  {
   "cell_type": "code",
   "execution_count": 9,
   "metadata": {},
   "outputs": [
    {
     "name": "stderr",
     "output_type": "stream",
     "text": [
      "100%|██████████| 1561840/1561840 [00:02<00:00, 649652.28it/s]\n"
     ]
    }
   ],
   "source": [
    "with open(\"clean_hindi_text.txt\",'w') as file:\n",
    "    for line in tqdm(f_hindi_clean):\n",
    "        file.write(line+'\\n')"
   ]
  },
  {
   "cell_type": "markdown",
   "metadata": {},
   "source": [
    "# Train, validation and test data partition"
   ]
  },
  {
   "cell_type": "code",
   "execution_count": 10,
   "metadata": {},
   "outputs": [],
   "source": [
    "with open(\"clean_hindi_text.txt\",'r') as file:\n",
    "    doc_hindi=file.readlines()"
   ]
  },
  {
   "cell_type": "code",
   "execution_count": 11,
   "metadata": {},
   "outputs": [],
   "source": [
    "with open(\"clean_english_text.txt\",'r') as file:\n",
    "    doc_english=file.readlines()"
   ]
  },
  {
   "cell_type": "code",
   "execution_count": 12,
   "metadata": {},
   "outputs": [
    {
     "name": "stderr",
     "output_type": "stream",
     "text": [
      "100%|██████████| 1561840/1561840 [00:01<00:00, 941811.19it/s] \n"
     ]
    }
   ],
   "source": [
    "clean_hindi=[]\n",
    "clean_english=[]\n",
    "for i in tqdm(range(len(doc_hindi))):\n",
    "    if doc_hindi[i]!='\\n' and doc_english!='\\n':\n",
    "        clean_hindi.append(doc_hindi[i])\n",
    "        clean_english.append(doc_english[i])"
   ]
  },
  {
   "cell_type": "code",
   "execution_count": 13,
   "metadata": {},
   "outputs": [
    {
     "name": "stderr",
     "output_type": "stream",
     "text": [
      "/home/vikrant/anaconda3/lib/python3.6/site-packages/sklearn/cross_validation.py:41: DeprecationWarning: This module was deprecated in version 0.18 in favor of the model_selection module into which all the refactored classes and functions are moved. Also note that the interface of the new CV iterators are different from that of this module. This module will be removed in 0.20.\n",
      "  \"This module will be removed in 0.20.\", DeprecationWarning)\n"
     ]
    }
   ],
   "source": [
    "from sklearn.cross_validation import train_test_split\n",
    "src_train, src_x, tgt_train, tgt_x = train_test_split(clean_hindi, clean_english, test_size=0.038954, random_state=42)\n",
    "src_val, src_test, tgt_val, tgt_test = train_test_split(src_x, tgt_x, test_size=0.5, random_state=42)"
   ]
  },
  {
   "cell_type": "markdown",
   "metadata": {},
   "source": [
    "# Writing data to train, val and test txt files"
   ]
  },
  {
   "cell_type": "code",
   "execution_count": 14,
   "metadata": {},
   "outputs": [],
   "source": [
    "with open('src_train.txt','w') as file:\n",
    "    for i in src_train:\n",
    "        file.write(i)"
   ]
  },
  {
   "cell_type": "code",
   "execution_count": 15,
   "metadata": {},
   "outputs": [],
   "source": [
    "with open('src_test.txt','w') as file:\n",
    "    for i in src_test:\n",
    "        file.write(i)"
   ]
  },
  {
   "cell_type": "code",
   "execution_count": 16,
   "metadata": {},
   "outputs": [],
   "source": [
    "with open('src_val.txt','w') as file:\n",
    "    for i in src_val:\n",
    "        file.write(i)"
   ]
  },
  {
   "cell_type": "code",
   "execution_count": 17,
   "metadata": {},
   "outputs": [],
   "source": [
    "with open('tgt_test.txt','w') as file:\n",
    "    for i in tgt_test:\n",
    "        file.write(i)"
   ]
  },
  {
   "cell_type": "code",
   "execution_count": 18,
   "metadata": {},
   "outputs": [],
   "source": [
    "with open('tgt_train.txt','w') as file:\n",
    "    for i in tgt_train:\n",
    "        file.write(i)"
   ]
  },
  {
   "cell_type": "code",
   "execution_count": 19,
   "metadata": {},
   "outputs": [],
   "source": [
    "with open('tgt_val.txt','w') as file:\n",
    "    for i in tgt_val:\n",
    "        file.write(i)"
   ]
  },
  {
   "cell_type": "code",
   "execution_count": null,
   "metadata": {},
   "outputs": [],
   "source": []
  }
 ],
 "metadata": {
  "kernelspec": {
   "display_name": "Python 3",
   "language": "python",
   "name": "python3"
  },
  "language_info": {
   "codemirror_mode": {
    "name": "ipython",
    "version": 3
   },
   "file_extension": ".py",
   "mimetype": "text/x-python",
   "name": "python",
   "nbconvert_exporter": "python",
   "pygments_lexer": "ipython3",
   "version": "3.6.5"
  }
 },
 "nbformat": 4,
 "nbformat_minor": 2
}
